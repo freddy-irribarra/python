{
 "cells": [
  {
   "cell_type": "code",
   "execution_count": 1,
   "metadata": {},
   "outputs": [
    {
     "name": "stdout",
     "output_type": "stream",
     "text": [
      "La palabra mas cercana a: mexco\n",
      "('Mexico', 91)\n"
     ]
    },
    {
     "name": "stderr",
     "output_type": "stream",
     "text": [
      "c:\\Users\\fredd\\AppData\\Local\\Programs\\Python\\Python39\\lib\\site-packages\\fuzzywuzzy\\fuzz.py:11: UserWarning: Using slow pure-python SequenceMatcher. Install python-Levenshtein to remove this warning\n",
      "  warnings.warn('Using slow pure-python SequenceMatcher. Install python-Levenshtein to remove this warning')\n"
     ]
    }
   ],
   "source": [
    "from fuzzywuzzy import process\n",
    "ok={\"Mexico\",\"Argentina\",\"Chile\",\"Ecuador\"}\n",
    "usuario=\"mexco\"\n",
    "aprox=process.extractOne(usuario,ok)\n",
    "print(\"La palabra mas cercana a:\",usuario)\n",
    "print(aprox)\n",
    "#aparece 91 que tiene que ver que se parece a la palabra original en un 91%"
   ]
  },
  {
   "cell_type": "code",
   "execution_count": 3,
   "metadata": {},
   "outputs": [
    {
     "name": "stdout",
     "output_type": "stream",
     "text": [
      "Es:  Mexico\n",
      "Con:  91\n"
     ]
    }
   ],
   "source": [
    "print(\"Es: \", aprox[0])\n",
    "print(\"Con: \", aprox[1])\n"
   ]
  },
  {
   "cell_type": "code",
   "execution_count": 5,
   "metadata": {},
   "outputs": [
    {
     "name": "stdout",
     "output_type": "stream",
     "text": [
      "                mal                  bien\n",
      "0              Ags.        Aguascalientes\n",
      "1   Aguascalientits       Baja California\n",
      "2          CampEchE   Baja California Sur\n",
      "3          Coliiima              Campeche\n",
      "4            ChiaPs  Coahuila de Zaragoza\n",
      "5         Chiuhahua                Colima\n",
      "6            duranG               Chiapas\n",
      "7        Guanajauto             Chihuahua\n",
      "8               NaN      Distrito Federal\n",
      "9               NaN               Durango\n",
      "10              NaN            Guanajuato\n",
      "11              NaN              Guerrero\n",
      "12              NaN               Hidalgo\n"
     ]
    }
   ],
   "source": [
    "import pandas as pd\n",
    "df=pd.read_csv('test.csv')\n",
    "print(df)"
   ]
  },
  {
   "cell_type": "code",
   "execution_count": 6,
   "metadata": {},
   "outputs": [],
   "source": [
    "#2 listas vacias\n",
    "nombres=[]\n",
    "proporcion=[]\n",
    "\n",
    "\n",
    "def cambios(mal,bien):\n",
    "    #para cada uno de los elementos de la columna mal\n",
    "    for i in mal:\n",
    "        #cada i tiene que ir haciendo la busqueda en la otra columna bien\n",
    "        x= process.extractOne(i,bien)\n",
    "        #añadir cada uno de estos elementos a estas listas que estan preparadas\n",
    "        nombres.append(x[0])            #voy a querer el primer elemento que corresponde al nombre\n",
    "        proporcion.append(x[1])\n",
    "    #cuando se acabe el ciclo for y lo que quiero regresar como resultado de la funcion es nombres y proporcion que son los nombres de las listas que estaban vacias    \n",
    "    return nombres, proporcion\n",
    "\n",
    "#vamos a preparar las columnas para poder aplicar esta funcion\n",
    "#values va guardando los valores en 'mal'\n",
    "mal=df['mal'].dropna().values           #dropna es para eliminar los valores nan\n",
    "bien=df['bien'].dropna().values\n",
    "\n",
    "#para crear 2 nuevas columnas \n",
    "#aca llamo la funcion\n",
    "corregido, rango= cambios(mal, bien)\n",
    "#\n",
    "df['correccion']=pd.Series(corregido)\n",
    "df['rationm']=pd.Series(rango)\n",
    "\n",
    "df.to_csv(\"correcciones.csv\")\n",
    "\n",
    "    \n",
    "        "
   ]
  },
  {
   "cell_type": "code",
   "execution_count": null,
   "metadata": {},
   "outputs": [],
   "source": []
  },
  {
   "cell_type": "code",
   "execution_count": null,
   "metadata": {},
   "outputs": [],
   "source": []
  },
  {
   "cell_type": "code",
   "execution_count": null,
   "metadata": {},
   "outputs": [],
   "source": []
  }
 ],
 "metadata": {
  "kernelspec": {
   "display_name": "Python 3",
   "language": "python",
   "name": "python3"
  },
  "language_info": {
   "codemirror_mode": {
    "name": "ipython",
    "version": 3
   },
   "file_extension": ".py",
   "mimetype": "text/x-python",
   "name": "python",
   "nbconvert_exporter": "python",
   "pygments_lexer": "ipython3",
   "version": "3.9.0"
  }
 },
 "nbformat": 4,
 "nbformat_minor": 2
}
